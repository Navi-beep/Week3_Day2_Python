{
 "cells": [
  {
   "cell_type": "markdown",
   "metadata": {},
   "source": [
    "#### Exercise 1 - Class Inheritance"
   ]
  },
  {
   "cell_type": "markdown",
   "metadata": {},
   "source": [
    "Create an Employee class that sets an employee's first name, last name, job title, salary, and email. The Employee class should have a class attribute for the raise amount set to 5% (1.05). Create a method that will apply the raise to an employee's salary."
   ]
  },
  {
   "cell_type": "code",
   "execution_count": null,
   "metadata": {},
   "outputs": [],
   "source": [
    "class Employee:\n",
    "    raise_amount = 1.05\n",
    "    \n",
    "    def __init__(self, first, last, job_title, salary):\n",
    "        self.first = first\n",
    "        self.last = last\n",
    "        self.job_title = job_title\n",
    "        self.salary = salary\n",
    "        self.email = first.lower() + '.' + last.lower() + '@coolbeanscompany.com'\n",
    "    \n",
    "    def full_name(self):\n",
    "        return '{} {}'.format(self.first,self.last) \n",
    "    \n",
    "    def get_raise(self):\n",
    "        self.salary = int(self.salary * self.raise_amount)\n",
    "        \n",
    "    #def __str__(self):\n",
    "     #   return '{}' - '{}'.format(self.fullname)\n",
    "    \n",
    "    \n",
    "\n",
    "empy_1 = Employee('Larry', 'David', 'Web Developer', 70000)"
   ]
  },
  {
   "cell_type": "code",
   "execution_count": null,
   "metadata": {},
   "outputs": [],
   "source": [
    "print('Employee Starting Salary:', empy_1.salary)\n",
    "print(f'Way to go {empy_1.full_name()}, you are getting a raise this year! \\nGreat Work, Keep it Up!')\n",
    "empy_1.get_raise()\n",
    "print(f'Employee Updated Salary: {empy_1.salary}')"
   ]
  },
  {
   "cell_type": "code",
   "execution_count": null,
   "metadata": {},
   "outputs": [],
   "source": [
    "class Sales_Employees(Employee):\n",
    "    def __init__(self, first, last, job_title, salary, phone_number):\n",
    "        super().__init__(first, last, job_title, salary)\n",
    "        self.phone_number = phone_number\n",
    "    \n",
    "    def send_email(self):\n",
    "        return f\"Dear Customer, thank you for your interest in our product. Please let me know if you have any questions. My email is {self.email} or my phone number is {self.phone_number}. Thanks, {self.first} {self.last}.\"\n",
    "\n",
    "    def follow_up_email(self):\n",
    "        return f\"Dear Mike O'Neil, I'm just following up to see if you are interested in any of our sweet merch. Please let me know if you have any questions. My email is {self.email} or my phone number is {self.phone_number}. Thanks, {self.first} {self.last}.\"\n",
    "\n",
    "    def follow_up_email_1(self):\n",
    "        return f\"Dear Hannah Stern, I'm just following up to see if you are interested in any of our sweet merch. Please let me know if you have any questions. My email is {self.email} or my phone number is {self.phone_number}. Thanks, {self.first} {self.last}.\"\n",
    "    \n",
    "class Development_Employees(Employee):\n",
    "    def __init__(self, first, last, job_title, salary):\n",
    "        super().__init__(first, last, job_title, salary) \n",
    "        \n",
    "    def coding(self):\n",
    "        return f\"{self.first} {self.last} is busy writing code and drinking iced coffee.\"\n",
    "    \n",
    "    def coding_cats(self):\n",
    "        return f\"{self.first} {self.last} is busy writing more code for the website with a deadline on monday. I think that guy deserves a raise. There's a meeting a 9 with sales on monday about the website.\"\n",
    "\n",
    "# I still need to figure out how to add customer names and fix for formatting on the sent emails"
   ]
  },
  {
   "cell_type": "code",
   "execution_count": null,
   "metadata": {},
   "outputs": [],
   "source": []
  },
  {
   "cell_type": "markdown",
   "metadata": {},
   "source": [
    "Create two more classes that inherit from the Employee class. One for Sales and one for Development. Both of these classes will have the same attributes as the Employee.<br>\n",
    "- For the Sales employees, add a phone number attribute on instantiation using the super method. \n",
    "- Create a method on the Sales class that will Send a Follow Up Email. It should take in a customer name and \"send\" aka print a formatted email \"Dear *customer*, Thank you for your interest in our product. Please let me know if you have any questions. My email is *email* or my phone number is *phone number*. Thanks, *full name*\"\n",
    "- Create a method on the Development class called code that will print out \"*full name* is writing code\"."
   ]
  },
  {
   "cell_type": "code",
   "execution_count": null,
   "metadata": {},
   "outputs": [],
   "source": [
    "sales_employee1 = Sales_Employees('Art','Vandelay', 'Director of Sales', 120000, \"588-2300\")\n",
    "sales_employee1.send_email()"
   ]
  },
  {
   "cell_type": "code",
   "execution_count": null,
   "metadata": {},
   "outputs": [],
   "source": [
    "development_employee1 = Development_Employees('Mike','Stoklasa', 'Super Web Dev', 115000)\n",
    "development_employee1.coding()"
   ]
  },
  {
   "cell_type": "markdown",
   "metadata": {},
   "source": [
    "- Create an instance of a Sales Employee with a salary of $50,000.\n",
    "- Send follow up emails to \"Mike O'Neil\" and \"Hannah Stern\"\n",
    "- Give the employee a raise and print the salary"
   ]
  },
  {
   "cell_type": "code",
   "execution_count": null,
   "metadata": {},
   "outputs": [],
   "source": [
    "sales_employee2 = Sales_Employees('Dwight','Schrute', 'Regional Director of Sales', 50000, \"867-5309\")\n",
    "sales_employee2.follow_up_email()"
   ]
  },
  {
   "cell_type": "code",
   "execution_count": null,
   "metadata": {},
   "outputs": [],
   "source": [
    "sales_employee2.follow_up_email_1()"
   ]
  },
  {
   "cell_type": "code",
   "execution_count": null,
   "metadata": {},
   "outputs": [],
   "source": [
    "print('Sales Starting Salary:', sales_employee2.salary)\n",
    "print(f'Nice One, {sales_employee2.full_name()}, you are getting a raise this year! \\nGreat Work, Treat Yourself!')\n",
    "sales_employee2.get_raise()\n",
    "print(f\"Much Money Such Raise: {sales_employee2.full_name()} now makes ${sales_employee2.salary}\")"
   ]
  },
  {
   "cell_type": "markdown",
   "metadata": {},
   "source": [
    "- Create an instance of a Development Employee with a salary of $100,000\n",
    "- Write some code with this employee\n",
    "- Give the employee a raise and print the salary"
   ]
  },
  {
   "cell_type": "code",
   "execution_count": null,
   "metadata": {},
   "outputs": [],
   "source": [
    "development_employee2 = Development_Employees('Rich','Evans', 'Web Developer', 100000)\n",
    "development_employee2.coding_cats()"
   ]
  },
  {
   "cell_type": "code",
   "execution_count": null,
   "metadata": {},
   "outputs": [],
   "source": [
    "print(f'Nice one, {development_employee2.full_name()}, you are getting a raise this year! \\nDo more coding and buy yourself some awesome stuff. \\nThere is a sweet new gaming laptop out. You should totally buy it.')\n",
    "development_employee2.get_raise() \n",
    "print(f\"{development_employee2.full_name()} new salary is: ${development_employee2.salary}\")"
   ]
  },
  {
   "cell_type": "markdown",
   "metadata": {},
   "source": [
    "#### Exercise 2 - Importing Modules"
   ]
  },
  {
   "cell_type": "markdown",
   "metadata": {},
   "source": [
    "In VS Code, create a module titled `geometry` and add two functions in there. One that will calculate the area of a circle given a radius. The second will find the hypotenuse of a right angle given the two sides. Import the module or the functions from the module and use it to find the answers to the below questions"
   ]
  },
  {
   "cell_type": "markdown",
   "metadata": {},
   "source": [
    "What is the area of a circle with a radius of 7cm?"
   ]
  },
  {
   "cell_type": "code",
   "execution_count": 17,
   "metadata": {},
   "outputs": [
    {
     "name": "stdout",
     "output_type": "stream",
     "text": [
      "483.61061565337855\n"
     ]
    }
   ],
   "source": [
    "#from geometry import area_of_circle\n",
    "\n",
    "import geometry\n",
    "\n",
    "\n",
    "area_of_circle(7)"
   ]
  },
  {
   "cell_type": "markdown",
   "metadata": {},
   "source": [
    "What is the hypotenuse of a right angle with sides of 3in and 4in?"
   ]
  },
  {
   "cell_type": "code",
   "execution_count": 16,
   "metadata": {},
   "outputs": [
    {
     "ename": "NameError",
     "evalue": "name 'hypotenuse' is not defined",
     "output_type": "error",
     "traceback": [
      "\u001b[0;31m---------------------------------------------------------------------------\u001b[0m",
      "\u001b[0;31mNameError\u001b[0m                                 Traceback (most recent call last)",
      "Input \u001b[0;32mIn [16]\u001b[0m, in \u001b[0;36m<cell line: 5>\u001b[0;34m()\u001b[0m\n\u001b[1;32m      1\u001b[0m \u001b[38;5;28;01mimport\u001b[39;00m \u001b[38;5;21;01mgeometry\u001b[39;00m\n\u001b[0;32m----> 5\u001b[0m \u001b[43mhypotenuse\u001b[49m(\u001b[38;5;241m3\u001b[39m,\u001b[38;5;241m7\u001b[39m)\n",
      "\u001b[0;31mNameError\u001b[0m: name 'hypotenuse' is not defined"
     ]
    }
   ],
   "source": [
    "import geometry\n",
    "\n",
    "\n",
    "\n",
    "hypotenuse(3,7)\n",
    "\n",
    "# this function is not importing correctly"
   ]
  },
  {
   "cell_type": "code",
   "execution_count": null,
   "metadata": {},
   "outputs": [],
   "source": []
  }
 ],
 "metadata": {
  "kernelspec": {
   "display_name": "Python 3 (ipykernel)",
   "language": "python",
   "name": "python3"
  },
  "language_info": {
   "codemirror_mode": {
    "name": "ipython",
    "version": 3
   },
   "file_extension": ".py",
   "mimetype": "text/x-python",
   "name": "python",
   "nbconvert_exporter": "python",
   "pygments_lexer": "ipython3",
   "version": "3.9.12"
  }
 },
 "nbformat": 4,
 "nbformat_minor": 4
}
